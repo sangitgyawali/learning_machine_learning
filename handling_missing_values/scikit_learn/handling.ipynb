{
 "cells": [
  {
   "cell_type": "code",
   "execution_count": 1,
   "id": "e9f81b91",
   "metadata": {},
   "outputs": [],
   "source": [
    "import pandas as pd\n",
    "import seaborn as sns\n",
    "import matplotlib.pyplot as plt"
   ]
  },
  {
   "cell_type": "code",
   "execution_count": 4,
   "id": "a050caa2",
   "metadata": {},
   "outputs": [
    {
     "data": {
      "text/html": [
       "<div>\n",
       "<style scoped>\n",
       "    .dataframe tbody tr th:only-of-type {\n",
       "        vertical-align: middle;\n",
       "    }\n",
       "\n",
       "    .dataframe tbody tr th {\n",
       "        vertical-align: top;\n",
       "    }\n",
       "\n",
       "    .dataframe thead th {\n",
       "        text-align: right;\n",
       "    }\n",
       "</style>\n",
       "<table border=\"1\" class=\"dataframe\">\n",
       "  <thead>\n",
       "    <tr style=\"text-align: right;\">\n",
       "      <th></th>\n",
       "      <th>UID</th>\n",
       "      <th>Marital_status</th>\n",
       "      <th>Dependents</th>\n",
       "      <th>Is_graduate</th>\n",
       "      <th>Income</th>\n",
       "      <th>Loan_amount</th>\n",
       "      <th>Term_months</th>\n",
       "      <th>Credit_score</th>\n",
       "      <th>approval_status</th>\n",
       "      <th>Age</th>\n",
       "      <th>Sex</th>\n",
       "      <th>Purpose</th>\n",
       "      <th>Hobby</th>\n",
       "    </tr>\n",
       "  </thead>\n",
       "  <tbody>\n",
       "    <tr>\n",
       "      <th>0</th>\n",
       "      <td>LP001002</td>\n",
       "      <td>NO</td>\n",
       "      <td>0</td>\n",
       "      <td>Graduate</td>\n",
       "      <td>45848</td>\n",
       "      <td>NaN</td>\n",
       "      <td>360.0</td>\n",
       "      <td>1.0</td>\n",
       "      <td>0</td>\n",
       "      <td>40.0</td>\n",
       "      <td>Male</td>\n",
       "      <td>Education</td>\n",
       "      <td>Reading</td>\n",
       "    </tr>\n",
       "    <tr>\n",
       "      <th>1</th>\n",
       "      <td>LP001002</td>\n",
       "      <td>NO</td>\n",
       "      <td>0</td>\n",
       "      <td>Graduate</td>\n",
       "      <td>45848</td>\n",
       "      <td>NaN</td>\n",
       "      <td>360.0</td>\n",
       "      <td>1.0</td>\n",
       "      <td>0</td>\n",
       "      <td>40.0</td>\n",
       "      <td>Male</td>\n",
       "      <td>Education</td>\n",
       "      <td>Reading</td>\n",
       "    </tr>\n",
       "    <tr>\n",
       "      <th>2</th>\n",
       "      <td>LP001003</td>\n",
       "      <td>YES</td>\n",
       "      <td>1</td>\n",
       "      <td>Graduate</td>\n",
       "      <td>15325</td>\n",
       "      <td>128.0</td>\n",
       "      <td>360.0</td>\n",
       "      <td>1.0</td>\n",
       "      <td>1</td>\n",
       "      <td>22.0</td>\n",
       "      <td>Male</td>\n",
       "      <td>Education</td>\n",
       "      <td>Reading</td>\n",
       "    </tr>\n",
       "  </tbody>\n",
       "</table>\n",
       "</div>"
      ],
      "text/plain": [
       "        UID Marital_status Dependents Is_graduate  Income  Loan_amount  \\\n",
       "0  LP001002             NO          0    Graduate   45848          NaN   \n",
       "1  LP001002             NO          0    Graduate   45848          NaN   \n",
       "2  LP001003            YES          1    Graduate   15325        128.0   \n",
       "\n",
       "   Term_months  Credit_score  approval_status   Age   Sex    Purpose    Hobby  \n",
       "0        360.0           1.0                0  40.0  Male  Education  Reading  \n",
       "1        360.0           1.0                0  40.0  Male  Education  Reading  \n",
       "2        360.0           1.0                1  22.0  Male  Education  Reading  "
      ]
     },
     "execution_count": 4,
     "metadata": {},
     "output_type": "execute_result"
    }
   ],
   "source": [
    "dataset = pd.read_csv(\"loan.csv\")\n",
    "dataset.head(3)"
   ]
  },
  {
   "cell_type": "code",
   "execution_count": 5,
   "id": "984561e5",
   "metadata": {},
   "outputs": [
    {
     "data": {
      "text/plain": [
       "UID                 0\n",
       "Marital_status      2\n",
       "Dependents         15\n",
       "Is_graduate         2\n",
       "Income              0\n",
       "Loan_amount        23\n",
       "Term_months        14\n",
       "Credit_score       50\n",
       "approval_status     0\n",
       "Age                 6\n",
       "Sex                13\n",
       "Purpose             0\n",
       "Hobby               0\n",
       "dtype: int64"
      ]
     },
     "execution_count": 5,
     "metadata": {},
     "output_type": "execute_result"
    }
   ],
   "source": [
    "dataset.isnull().sum()"
   ]
  },
  {
   "cell_type": "code",
   "execution_count": 6,
   "id": "d8eb84ec",
   "metadata": {},
   "outputs": [
    {
     "data": {
      "text/plain": [
       "Index(['Loan_amount', 'Term_months', 'Credit_score', 'Age'], dtype='object')"
      ]
     },
     "execution_count": 6,
     "metadata": {},
     "output_type": "execute_result"
    }
   ],
   "source": [
    "dataset.select_dtypes(include=\"float64\").columns"
   ]
  }
 ],
 "metadata": {
  "kernelspec": {
   "display_name": "Python 3",
   "language": "python",
   "name": "python3"
  },
  "language_info": {
   "codemirror_mode": {
    "name": "ipython",
    "version": 3
   },
   "file_extension": ".py",
   "mimetype": "text/x-python",
   "name": "python",
   "nbconvert_exporter": "python",
   "pygments_lexer": "ipython3",
   "version": "3.13.3"
  }
 },
 "nbformat": 4,
 "nbformat_minor": 5
}
